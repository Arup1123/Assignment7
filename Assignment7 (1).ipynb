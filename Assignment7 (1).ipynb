{
 "cells": [
  {
   "cell_type": "markdown",
   "id": "9aa863d2-59bf-49cc-b91c-6df604257eac",
   "metadata": {},
   "source": [
    "Q1. What is Abstraction in OOPs? Explain with an example."
   ]
  },
  {
   "cell_type": "markdown",
   "id": "73274d07-f69a-4795-801f-207f3d6d1cdf",
   "metadata": {},
   "source": [
    "Ans: Abstraction is the concepts of object-oriented programming that shows only essential attributes and hides unnecessery information. The main ppurpose of abstraction is hiding the unnecessary details from the users. "
   ]
  },
  {
   "cell_type": "code",
   "execution_count": 2,
   "id": "854e0761-dac1-46da-aabb-ebc848dc26b2",
   "metadata": {},
   "outputs": [
    {
     "name": "stdout",
     "output_type": "stream",
     "text": [
      "The mileage is 30 kmph\n",
      "The mileage is 25 kmph\n"
     ]
    }
   ],
   "source": [
    "#Example:\n",
    "import abc\n",
    "class car:\n",
    "    @abc.abstractmethod\n",
    "    def mileage(self):\n",
    "        pass\n",
    "class Suzuki(car):\n",
    "    def mileage(self):\n",
    "        print(\"The mileage is 30 kmph\")\n",
    "class Duster(car):\n",
    "    def mileage(self):\n",
    "        print(\"The mileage is 25 kmph\")\n",
    "s=Suzuki()\n",
    "s.mileage()\n",
    "d=Duster()\n",
    "d.mileage()\n",
    "    "
   ]
  },
  {
   "cell_type": "markdown",
   "id": "cccc965a-f0b0-4cdf-ac7b-f0573944d213",
   "metadata": {},
   "source": [
    "Q2. Differentiate between abstraction and encapsulation. Explain with an example."
   ]
  },
  {
   "cell_type": "markdown",
   "id": "38f06af9-c9e2-47d3-95e1-0c3c8e098d30",
   "metadata": {},
   "source": [
    "Ans: 1. Abstraction is the process or method of gaining information. While encapsulation is the process or method of            contain the information.\n",
    "     2. In abstraction, problems are solved at the design or interface level. While in encapsulation, problems are\n",
    "        solved at the implementation level.\n",
    "     3. Abstraction is the method of hiding unwanted information. Whereas encapsulation is a method to hide the data\n",
    "        in a single entity or unit along with a method to protect information from outside.\n",
    "     4. We can implementation abstraction using abstract class and interfaces. Whereas encapsulation can be implemented          using by access modifier i.e private, protected and public.  \n",
    "     Let us consider an example:\n",
    "     Abstraction is used in mobile phone's GUI. When we click on the icons, abstraction allows us to perform specific          functons. After the icon is clicked, the encapsulation works in the backend to guide the user on the next steps.\n",
    "     "
   ]
  },
  {
   "cell_type": "markdown",
   "id": "7f35c58c-5d28-4fa9-9e43-a38facf3647c",
   "metadata": {},
   "source": [
    "Q3. What is abc module in python? Why is it used?"
   ]
  },
  {
   "cell_type": "markdown",
   "id": "be8a871b-71ca-4434-8c50-7f77a1bcc3f5",
   "metadata": {},
   "source": [
    "Ans: Python has a module called abc (abstract base class) that offers the necessary tools for crafting an abstract base class\n",
    "     Python is not a fully object-oriented programming language but it supports the features like abstract classes and\n",
    "     abstraction. We can not create abstract classes directly in python, so python provides a module called abc that provides\n",
    "     the infrastructure for defining the base of Abstract Base classes.  "
   ]
  },
  {
   "cell_type": "markdown",
   "id": "0bfdb4ec-50ad-49a0-99d2-100a9f6be7f0",
   "metadata": {},
   "source": [
    "Q4. How can we achieve data abstraction?"
   ]
  },
  {
   "cell_type": "markdown",
   "id": "03617904-f798-4b1b-a9c4-45d58a16e59c",
   "metadata": {},
   "source": [
    "Ans: In python, data abstarction can be achieved by using abstract classes and methods. "
   ]
  },
  {
   "cell_type": "markdown",
   "id": "3537bb15-eac6-4c61-a77b-f63283e3d7a2",
   "metadata": {},
   "source": [
    "Q5. Can we create an instance of an abstract class? Explain your answer."
   ]
  },
  {
   "cell_type": "markdown",
   "id": "5b850801-ae2f-485a-912a-eac38991731e",
   "metadata": {},
   "source": [
    "Ans: No. Abstract classes can not be instantiated.\n",
    "     In OOPs, abstract class can not be instantiated. Abstract classes are incomplete because they have methods that have          nobody. If python allows creating an object for abstract classes then using that object if anyone calls the the\n",
    "     abstract method, but there is no actual implementation to invoke. So we use an abstract class as a template and\n",
    "     according to the need, we extend it and build on it before we can use it. Due to the fact, an abstract class is\n",
    "     not a concrete class, it cannot be instantiated. When we create an object for the abstract class it raises an error."
   ]
  }
 ],
 "metadata": {
  "kernelspec": {
   "display_name": "Python 3 (ipykernel)",
   "language": "python",
   "name": "python3"
  },
  "language_info": {
   "codemirror_mode": {
    "name": "ipython",
    "version": 3
   },
   "file_extension": ".py",
   "mimetype": "text/x-python",
   "name": "python",
   "nbconvert_exporter": "python",
   "pygments_lexer": "ipython3",
   "version": "3.10.8"
  }
 },
 "nbformat": 4,
 "nbformat_minor": 5
}
